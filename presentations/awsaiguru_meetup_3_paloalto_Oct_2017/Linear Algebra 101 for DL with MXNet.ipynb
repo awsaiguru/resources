{
 "cells": [
  {
   "cell_type": "code",
   "execution_count": 4,
   "metadata": {
    "collapsed": false,
    "deletable": true,
    "editable": true
   },
   "outputs": [],
   "source": [
    "# This is added to overcome python 3.7 json encoder warnings. Not required for the Demo\n",
    "import warnings\n",
    "warnings.filterwarnings('ignore')"
   ]
  },
  {
   "cell_type": "code",
   "execution_count": 5,
   "metadata": {
    "collapsed": false,
    "deletable": true,
    "editable": true
   },
   "outputs": [],
   "source": [
    "# Import NDArray -> N Dimensional Array -> A Data Container -> A Tensor Data Container\n",
    "import mxnet as mx\n",
    "from mxnet import nd\n",
    "\n",
    "# Do Seed so that results are reproducible when using random initialization\n",
    "mx.random.seed(1)"
   ]
  },
  {
   "cell_type": "code",
   "execution_count": 6,
   "metadata": {
    "collapsed": false,
    "deletable": true,
    "editable": true
   },
   "outputs": [
    {
     "name": "stdout",
     "output_type": "stream",
     "text": [
      "\n",
      "[ 3.]\n",
      "<NDArray 1 @cpu(0)>\n",
      "scalar1 + scalar2 =  \n",
      "[ 5.]\n",
      "<NDArray 1 @cpu(0)>\n",
      "scalar1 * scalar2 =  \n",
      "[ 6.]\n",
      "<NDArray 1 @cpu(0)>\n",
      "scalar1 / scalar2 =  \n",
      "[ 1.5]\n",
      "<NDArray 1 @cpu(0)>\n",
      "scalar1 ** scalar2 =  \n",
      "[ 9.]\n",
      "<NDArray 1 @cpu(0)>\n"
     ]
    }
   ],
   "source": [
    "# SCALARS -> Just one value\n",
    "\n",
    "# Initialize\n",
    "scalar1 = nd.array([3])\n",
    "scalar2 = nd.array([2])\n",
    "\n",
    "print(scalar1)\n",
    "# Addition\n",
    "print('scalar1 + scalar2 = ', scalar1 + scalar2)\n",
    "\n",
    "# Multiplication\n",
    "print('scalar1 * scalar2 = ', scalar1 * scalar2)\n",
    "\n",
    "# Division\n",
    "print('scalar1 / scalar2 = ', scalar1 / scalar2)\n",
    "\n",
    "# Power\n",
    "print('scalar1 ** scalar2 = ', nd.power(scalar1,scalar2))"
   ]
  },
  {
   "cell_type": "code",
   "execution_count": 7,
   "metadata": {
    "collapsed": false,
    "deletable": true,
    "editable": true
   },
   "outputs": [
    {
     "data": {
      "text/plain": [
       "3.0"
      ]
     },
     "execution_count": 7,
     "metadata": {},
     "output_type": "execute_result"
    }
   ],
   "source": [
    "# Extract the scalar value from NDArray\n",
    "scalar1.asscalar()"
   ]
  },
  {
   "cell_type": "code",
   "execution_count": 8,
   "metadata": {
    "collapsed": false,
    "deletable": true,
    "editable": true
   },
   "outputs": [
    {
     "name": "stdout",
     "output_type": "stream",
     "text": [
      "vector1 shape -  (4,)\n",
      "vector2 dimension -  1\n",
      "(4, 1)\n",
      "2\n"
     ]
    }
   ],
   "source": [
    "# VECTORS -> LIST OF VALUES -> 1 DIMENSIONAL\n",
    "\n",
    "vector1 = nd.array([1, 2, 3, 4])\n",
    "vector2 = nd.array([2, 4, 8, 10])\n",
    "\n",
    "# Shape and Dimensions\n",
    "print('vector1 shape - ', vector1.shape)\n",
    "print('vector2 dimension - ', vector1.ndim)\n",
    "\n",
    "\n",
    "matrix = nd.array([\n",
    "                    [1],[2],[3],[4]\n",
    "                  ])\n",
    "print(matrix.shape)\n",
    "print(matrix.ndim)"
   ]
  },
  {
   "cell_type": "code",
   "execution_count": 9,
   "metadata": {
    "collapsed": false,
    "deletable": true,
    "editable": true
   },
   "outputs": [
    {
     "name": "stdout",
     "output_type": "stream",
     "text": [
      "vector1 + scalar2 =  \n",
      "[  3.   6.  11.  14.]\n",
      "<NDArray 4 @cpu(0)>\n",
      "vector1 * scalar2 =  \n",
      "[  2.   8.  24.  40.]\n",
      "<NDArray 4 @cpu(0)>\n",
      "vector1 / scalar2 =  \n",
      "[ 0.5         0.5         0.375       0.40000001]\n",
      "<NDArray 4 @cpu(0)>\n"
     ]
    }
   ],
   "source": [
    "# VECTOR - VECTOR operations\n",
    "\n",
    "# Addition\n",
    "print('vector1 + scalar2 = ', vector1 + vector2)\n",
    "\n",
    "# Multiplication\n",
    "print('vector1 * scalar2 = ', vector1 * vector2)\n",
    "\n",
    "# Division\n",
    "print('vector1 / scalar2 = ', vector1 / vector2)"
   ]
  },
  {
   "cell_type": "code",
   "execution_count": 10,
   "metadata": {
    "collapsed": false,
    "deletable": true,
    "editable": true
   },
   "outputs": [
    {
     "name": "stdout",
     "output_type": "stream",
     "text": [
      "vector1 -  \n",
      "[ 1.  2.  3.  4.]\n",
      "<NDArray 4 @cpu(0)>\n",
      "scalar3 -  2\n",
      "vector1 + scalar3 =  \n",
      "[ 3.  4.  5.  6.]\n",
      "<NDArray 4 @cpu(0)>\n",
      "vector1 * scalar3 =  \n",
      "[ 2.  4.  6.  8.]\n",
      "<NDArray 4 @cpu(0)>\n",
      "vector1 / scalar3 =  \n",
      "[ 0.5  1.   1.5  2. ]\n",
      "<NDArray 4 @cpu(0)>\n"
     ]
    }
   ],
   "source": [
    "# VECTOR - SCALAR Operations\n",
    "\n",
    "scalar3 = 2\n",
    "\n",
    "print('vector1 - ', vector1)\n",
    "print('scalar3 - ', scalar3)\n",
    "\n",
    "# Addition\n",
    "print('vector1 + scalar3 = ', vector1 + scalar3)\n",
    "\n",
    "# Multiplication\n",
    "print('vector1 * scalar3 = ', vector1 * scalar3)\n",
    "\n",
    "# Division\n",
    "print('vector1 / scalar3 = ', vector1 / scalar3)\n"
   ]
  },
  {
   "cell_type": "code",
   "execution_count": 11,
   "metadata": {
    "collapsed": false,
    "deletable": true,
    "editable": true,
    "scrolled": true
   },
   "outputs": [
    {
     "name": "stdout",
     "output_type": "stream",
     "text": [
      "matrix1 =  \n",
      "[[ 1.  2.  3.  4.]\n",
      " [ 2.  4.  6.  8.]]\n",
      "<NDArray 2x4 @cpu(0)>\n",
      "matrix2 =  \n",
      "[[ 1.  1.  1.  1.]\n",
      " [ 1.  1.  1.  1.]]\n",
      "<NDArray 2x4 @cpu(0)>\n",
      "Shape of matrix =  (2, 4)\n",
      "Dimensions of matrix =  2\n"
     ]
    }
   ],
   "source": [
    "# MATRIX - LIST OF LIST OF VALUES - 2 DIMENSIONAL\n",
    "\n",
    "matrix1 = nd.array([\n",
    "    [1,2,3,4],\n",
    "    [2,4,6,8]\n",
    "])\n",
    "\n",
    "matrix2 = nd.array([\n",
    "                    [1,1,1,1],\n",
    "                    [1,1,1,1]\n",
    "                 ])\n",
    "\n",
    "\n",
    "print('matrix1 = ', matrix1)\n",
    "print('matrix2 = ', matrix2)\n",
    "\n",
    "# SHAPE and DIMENSION (AXIS)\n",
    "print('Shape of matrix = ', matrix1.shape)\n",
    "print('Dimensions of matrix = ',matrix1.ndim)"
   ]
  },
  {
   "cell_type": "code",
   "execution_count": 12,
   "metadata": {
    "collapsed": false,
    "deletable": true,
    "editable": true
   },
   "outputs": [
    {
     "name": "stdout",
     "output_type": "stream",
     "text": [
      "matrix1 + matrix2 =  \n",
      "[[ 2.  3.  4.  5.]\n",
      " [ 3.  5.  7.  9.]]\n",
      "<NDArray 2x4 @cpu(0)>\n",
      "matrix1 * matrix2 =  \n",
      "[[ 1.  2.  3.  4.]\n",
      " [ 2.  4.  6.  8.]]\n",
      "<NDArray 2x4 @cpu(0)>\n",
      "matrix1 / matrix2 =  \n",
      "[[ 1.  2.  3.  4.]\n",
      " [ 2.  4.  6.  8.]]\n",
      "<NDArray 2x4 @cpu(0)>\n"
     ]
    }
   ],
   "source": [
    "# MATRIX - MATRIX OPERATIONS  (Since Tensors are of same shape - Elementwise operations )\n",
    "\n",
    "# Addition\n",
    "print('matrix1 + matrix2 = ', matrix1 + matrix2)\n",
    "\n",
    "# Multiplication\n",
    "print('matrix1 * matrix2 = ', matrix1 * matrix2)\n",
    "\n",
    "# Division\n",
    "print('matrix1 / matrix2 = ', matrix1 / matrix2)\n"
   ]
  },
  {
   "cell_type": "code",
   "execution_count": 13,
   "metadata": {
    "collapsed": false,
    "deletable": true,
    "editable": true
   },
   "outputs": [
    {
     "name": "stdout",
     "output_type": "stream",
     "text": [
      "matrix1 -  \n",
      "[[ 1.  2.  3.  4.]\n",
      " [ 2.  4.  6.  8.]]\n",
      "<NDArray 2x4 @cpu(0)>\n",
      "scalar4 -  2\n",
      "matrix1 + scalar4 =  \n",
      "[[  3.   4.   5.   6.]\n",
      " [  4.   6.   8.  10.]]\n",
      "<NDArray 2x4 @cpu(0)>\n",
      "matrix1 * scalar4 =  \n",
      "[[  2.   4.   6.   8.]\n",
      " [  4.   8.  12.  16.]]\n",
      "<NDArray 2x4 @cpu(0)>\n",
      "matrix1 / scalar4 =  \n",
      "[[ 0.5  1.   1.5  2. ]\n",
      " [ 1.   2.   3.   4. ]]\n",
      "<NDArray 2x4 @cpu(0)>\n"
     ]
    }
   ],
   "source": [
    "# MATRIX - SCALAR OPERATIONS\n",
    "scalar4 = 2\n",
    "\n",
    "print('matrix1 - ', matrix1)\n",
    "print('scalar4 - ', scalar4)\n",
    "\n",
    "# Addition\n",
    "print('matrix1 + scalar4 = ', matrix1 + scalar4)\n",
    "\n",
    "# Multiplication\n",
    "print('matrix1 * scalar4 = ', matrix1 * scalar4)\n",
    "\n",
    "# Division\n",
    "print('matrix1 / scalar4 = ', matrix1 / scalar4)"
   ]
  },
  {
   "cell_type": "code",
   "execution_count": 14,
   "metadata": {
    "collapsed": false,
    "deletable": true,
    "editable": true
   },
   "outputs": [
    {
     "name": "stdout",
     "output_type": "stream",
     "text": [
      "matrix1 -  \n",
      "[[ 1.  2.  3.  4.]\n",
      " [ 2.  4.  6.  8.]]\n",
      "<NDArray 2x4 @cpu(0)>\n",
      "vector3 -  \n",
      "[ 1.  2.  3.  4.]\n",
      "<NDArray 4 @cpu(0)>\n",
      "matrix1 + vector3 =  \n",
      "[[  2.   4.   6.   8.]\n",
      " [  3.   6.   9.  12.]]\n",
      "<NDArray 2x4 @cpu(0)>\n",
      "matrix1 * vector3 =  \n",
      "[[  1.   4.   9.  16.]\n",
      " [  2.   8.  18.  32.]]\n",
      "<NDArray 2x4 @cpu(0)>\n",
      "matrix1 / vector3 =  \n",
      "[[ 1.  1.  1.  1.]\n",
      " [ 2.  2.  2.  2.]]\n",
      "<NDArray 2x4 @cpu(0)>\n"
     ]
    }
   ],
   "source": [
    "# MATRIX - VECTOR OPERATIONS (REMEMBER BROADCASTING?)\n",
    "vector3 = nd.array([1, 2, 3, 4])\n",
    "\n",
    "print('matrix1 - ', matrix1)\n",
    "print('vector3 - ', vector3)\n",
    "\n",
    "# Addition\n",
    "print('matrix1 + vector3 = ', matrix1 + vector3)\n",
    "\n",
    "# Multiplication\n",
    "print('matrix1 * vector3 = ', matrix1 * vector3)\n",
    "\n",
    "# Division\n",
    "print('matrix1 / vector3 = ', matrix1 / vector3)"
   ]
  },
  {
   "cell_type": "code",
   "execution_count": 15,
   "metadata": {
    "collapsed": false,
    "deletable": true,
    "editable": true
   },
   "outputs": [
    {
     "name": "stdout",
     "output_type": "stream",
     "text": [
      "matrix1 =  \n",
      "[[ 1.  2.  3.  4.]\n",
      " [ 2.  4.  6.  8.]]\n",
      "<NDArray 2x4 @cpu(0)>\n",
      "matrix2 =  \n",
      "[[ 1.  1.  1.  1.]\n",
      " [ 1.  1.  1.  1.]]\n",
      "<NDArray 2x4 @cpu(0)>\n",
      "Shape of matrix =  (2, 4)\n",
      "Dimensions of matrix =  2\n",
      "dot_product =  \n",
      "[[  3.   3.   3.   3.]\n",
      " [  6.   6.   6.   6.]\n",
      " [  9.   9.   9.   9.]\n",
      " [ 12.  12.  12.  12.]]\n",
      "<NDArray 4x4 @cpu(0)>\n",
      "Shape of dot_product =  (4, 4)\n",
      "Dimensions of dot_product =  2\n"
     ]
    }
   ],
   "source": [
    "# DOT PRODUCTS, TRANSPOSE OF A TENSOR\n",
    "\n",
    "matrix1 = nd.array([\n",
    "                    [1,2,3,4],\n",
    "                    [2,4,6,8]\n",
    "                 ])\n",
    "\n",
    "matrix2 = nd.array([\n",
    "                    [1,1,1,1],\n",
    "                    [1,1,1,1]\n",
    "                 ])\n",
    "\n",
    "print('matrix1 = ', matrix1)\n",
    "print('matrix2 = ', matrix2)\n",
    "\n",
    "# SHAPE and DIMENSION (AXIS)\n",
    "print('Shape of matrix = ', matrix1.shape)\n",
    "print('Dimensions of matrix = ',matrix1.ndim)\n",
    "\n",
    "# DOT PRODUCT (4X2 dot 2X4) => (4X4)\n",
    "dot_product = nd.dot(matrix1.T, matrix2)\n",
    "print('dot_product = ', dot_product)\n",
    "\n",
    "# SHAPE and DIMENSION (AXIS)\n",
    "print('Shape of dot_product = ', dot_product.shape)\n",
    "print('Dimensions of dot_product = ',dot_product.ndim)"
   ]
  },
  {
   "cell_type": "code",
   "execution_count": 16,
   "metadata": {
    "collapsed": false,
    "deletable": true,
    "editable": true
   },
   "outputs": [
    {
     "name": "stdout",
     "output_type": "stream",
     "text": [
      "arange_vector -  \n",
      "[ 0.  1.  2.  3.  4.  5.  6.  7.  8.  9.]\n",
      "<NDArray 10 @cpu(0)>\n",
      "arange_vector_to_matrix -  \n",
      "[[ 0.  1.]\n",
      " [ 2.  3.]\n",
      " [ 4.  5.]\n",
      " [ 6.  7.]\n",
      " [ 8.  9.]]\n",
      "<NDArray 5x2 @cpu(0)>\n",
      "\n",
      "[ 45.]\n",
      "<NDArray 1 @cpu(0)>\n",
      "Negative tensor -  \n",
      "[-1. -2. -3.  5.]\n",
      "<NDArray 4 @cpu(0)>\n",
      "Abs of Negative tensor -  \n",
      "[ 1.  2.  3.  5.]\n",
      "<NDArray 4 @cpu(0)>\n"
     ]
    }
   ],
   "source": [
    "# SOME COMMONLY USED USEFUL OPERATIONS\n",
    "\n",
    "# Arange\n",
    "arange_vector = nd.arange(10)\n",
    "print('arange_vector - ', arange_vector)\n",
    "\n",
    "# Reshape\n",
    "arange_vector_to_matrix = arange_vector.reshape((5,2))\n",
    "print('arange_vector_to_matrix - ', arange_vector_to_matrix)\n",
    "                                                \n",
    "# Sum of values of the Tensor\n",
    "print(nd.sum(arange_vector_to_matrix))\n",
    "\n",
    "# ABS\n",
    "negative_tensor = nd.array([-1, -2, -3, 5])\n",
    "print('Negative tensor - ', negative_tensor)\n",
    "print('Abs of Negative tensor - ', nd.abs(negative_tensor))"
   ]
  },
  {
   "cell_type": "code",
   "execution_count": 17,
   "metadata": {
    "collapsed": false,
    "deletable": true,
    "editable": true
   },
   "outputs": [
    {
     "name": "stdout",
     "output_type": "stream",
     "text": [
      "matrix5 -  \n",
      "[[-1. -2. -3. -4.]\n",
      " [ 1.  2.  3.  4.]]\n",
      "<NDArray 2x4 @cpu(0)>\n",
      "L1 norm -  \n",
      "[ 20.]\n",
      "<NDArray 1 @cpu(0)>\n",
      "L2 norm by hand -  \n",
      "[ 7.74596691]\n",
      "<NDArray 1 @cpu(0)>\n",
      "L2 norm from MXNet -  \n",
      "[ 7.74596691]\n",
      "<NDArray 1 @cpu(0)>\n"
     ]
    }
   ],
   "source": [
    "# NORMS - L1 AND L2\n",
    "\n",
    "# L1 Norm - Sum of absolute values of a Tensor\n",
    "matrix5 = nd.array([\n",
    "                    [-1, -2, -3, -4],\n",
    "                    [1, 2, 3, 4]\n",
    "                  ])\n",
    "\n",
    "l1_norm = nd.sum(nd.abs(matrix5))\n",
    "\n",
    "print('matrix5 - ', matrix5)\n",
    "print('L1 norm - ', l1_norm)\n",
    "\n",
    "\n",
    "# L2 Norm - Square root of Sum of squared values of a Tensor\n",
    "\n",
    "l2_norm = nd.sqrt(nd.sum(nd.square(nd.abs(matrix5))))\n",
    "print('L2 norm by hand - ', l2_norm)\n",
    "\n",
    "# Or use built in MXNet L2 Norm function\n",
    "print('L2 norm from MXNet - ', nd.norm(matrix5))"
   ]
  },
  {
   "cell_type": "code",
   "execution_count": 18,
   "metadata": {
    "collapsed": false,
    "deletable": true,
    "editable": true
   },
   "outputs": [],
   "source": [
    "# 5 DIMENSIONAL TENSOR\n",
    "\n",
    "five_d_tensor = nd.array([\n",
    "    [\n",
    "        [\n",
    "            [\n",
    "                [1,2,3],\n",
    "                [4,5,6]\n",
    "            ]\n",
    "        ]\n",
    "    ]\n",
    "])"
   ]
  },
  {
   "cell_type": "code",
   "execution_count": 19,
   "metadata": {
    "collapsed": false,
    "deletable": true,
    "editable": true
   },
   "outputs": [
    {
     "data": {
      "text/plain": [
       "5"
      ]
     },
     "execution_count": 19,
     "metadata": {},
     "output_type": "execute_result"
    }
   ],
   "source": [
    "five_d_tensor.ndim"
   ]
  },
  {
   "cell_type": "code",
   "execution_count": 20,
   "metadata": {
    "collapsed": false,
    "deletable": true,
    "editable": true
   },
   "outputs": [
    {
     "data": {
      "text/plain": [
       "(1, 1, 1, 2, 3)"
      ]
     },
     "execution_count": 20,
     "metadata": {},
     "output_type": "execute_result"
    }
   ],
   "source": [
    "five_d_tensor.shape"
   ]
  }
 ],
 "metadata": {
  "kernelspec": {
   "display_name": "Python 3",
   "language": "python",
   "name": "python3"
  },
  "language_info": {
   "codemirror_mode": {
    "name": "ipython",
    "version": 3
   },
   "file_extension": ".py",
   "mimetype": "text/x-python",
   "name": "python",
   "nbconvert_exporter": "python",
   "pygments_lexer": "ipython3",
   "version": "3.6.1"
  }
 },
 "nbformat": 4,
 "nbformat_minor": 2
}
