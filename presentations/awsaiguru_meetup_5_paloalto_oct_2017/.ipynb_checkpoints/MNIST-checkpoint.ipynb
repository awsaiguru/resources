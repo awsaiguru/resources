{
 "cells": [
  {
   "cell_type": "code",
   "execution_count": 77,
   "metadata": {
    "collapsed": true,
    "deletable": true,
    "editable": true
   },
   "outputs": [],
   "source": [
    "# This is added to overcome python 3.7 json encoder warnings. Not required for the Demo\n",
    "import warnings\n",
    "warnings.filterwarnings('ignore')"
   ]
  },
  {
   "cell_type": "markdown",
   "metadata": {
    "deletable": true,
    "editable": true
   },
   "source": [
    "![Modelling Process](modelling_process_data.png)"
   ]
  },
  {
   "cell_type": "code",
   "execution_count": 78,
   "metadata": {
    "collapsed": false,
    "deletable": true,
    "editable": true
   },
   "outputs": [],
   "source": [
    "# MXNet and Numpy Imports for the program\n",
    "from __future__ import print_function\n",
    "import mxnet as mx\n",
    "from mxnet import nd, autograd\n",
    "from mxnet import gluon\n",
    "import numpy as np"
   ]
  },
  {
   "cell_type": "code",
   "execution_count": 79,
   "metadata": {
    "collapsed": false,
    "deletable": true,
    "editable": true
   },
   "outputs": [],
   "source": [
    "# Set the context to CPU\n",
    "ctx = mx.cpu()"
   ]
  },
  {
   "cell_type": "markdown",
   "metadata": {
    "deletable": true,
    "editable": true
   },
   "source": [
    "# Step 1 - Data Preparation\n",
    "\n",
    "1. Training Data\n",
    "2. Test (Validation) Data\n",
    "\n",
    "## MNIST Dataset\n",
    "\n",
    "1. Handwritten digit images along with its labels.\n",
    "2. Each Image is (28*28)\n",
    "3. This is a gray scale image. i.e., number of channels is 1. shape = (28, 28, 1). For a color image number of channels will be 3 (R,G,B) and typically looks like (28,28,3)\n",
    "3. 10,000 samples for training\n",
    "4. 10,000 samples for testing\n",
    "\n",
    "For more details - http://yann.lecun.com/exdb/mnist/\n",
    "\n",
    "### MXNet Gluon built-in Data Loaders\n",
    "\n",
    "Since MNIST is very common dataset, MXNet comes with pre-built data loaders for MNIST dataset, that downloads and loads the images as NDArray (Tensors).\n",
    "\n",
    "### TODOs\n",
    "\n",
    "Playaround with different batch sizes.\n",
    "Transform is normalizing the pixel values. Remove the transform and see if it has any effect.\n",
    "Can you print the image before and after transforming to see any effect of transformers. \n",
    "\n"
   ]
  },
  {
   "cell_type": "code",
   "execution_count": 71,
   "metadata": {
    "collapsed": false,
    "deletable": true,
    "editable": true
   },
   "outputs": [],
   "source": [
    "batch_size = 64\n",
    "\n",
    "# 28*28 image is rolled down as single vector => 28*28 = 784.\n",
    "num_inputs = 784\n",
    "\n",
    "# 0-9 => 10 possible labels.\n",
    "num_outputs = 10\n",
    "def transform(data, label):\n",
    "    return data.astype(np.float32)/255, label.astype(np.float32)\n",
    "\n",
    "# Load MNIST dataset\n",
    "mnist_train_data = mx.gluon.data.vision.MNIST(train=True, transform=transform)\n",
    "mnist_test_data = mx.gluon.data.vision.MNIST(train=False, transform=transform)"
   ]
  },
  {
   "cell_type": "code",
   "execution_count": 72,
   "metadata": {
    "collapsed": false,
    "deletable": true,
    "editable": true
   },
   "outputs": [
    {
     "name": "stdout",
     "output_type": "stream",
     "text": [
      "Training sample size - 10000\n",
      "Testing sample size - 10000\n"
     ]
    }
   ],
   "source": [
    "print(\"Training sample size - {}\".format(len(mnist_test_data)))\n",
    "print(\"Testing sample size - {}\".format(len(mnist_test_data)))"
   ]
  },
  {
   "cell_type": "code",
   "execution_count": 73,
   "metadata": {
    "collapsed": false,
    "deletable": true,
    "editable": true
   },
   "outputs": [
    {
     "name": "stdout",
     "output_type": "stream",
     "text": [
      "<class 'mxnet.ndarray.NDArray'> (28, 28, 1) 5.0\n"
     ]
    }
   ],
   "source": [
    "image, label = mnist_train_data[0]\n",
    "print(type(image), image.shape, label)"
   ]
  },
  {
   "cell_type": "code",
   "execution_count": 74,
   "metadata": {
    "collapsed": false,
    "deletable": true,
    "editable": true
   },
   "outputs": [
    {
     "name": "stdout",
     "output_type": "stream",
     "text": [
      "(28, 28, 3)\n"
     ]
    }
   ],
   "source": [
    "# MXNet - (batch, channel, height, width)\n",
    "# Matplotlib - most libraries for visualization prefer (height, width, channel)\n",
    "\n",
    "# Input is a gray scale image. Just repeat (tile) it 3 times to mimic 3 channels (R,G,B).\n",
    "# reps=(1,1,3) => says, No repetition for 1st axis and 2nd axis. Repeat 3 times for third axis.\n",
    "im = mx.nd.tile(image, reps=(1,1,3))\n",
    "print(im.shape)"
   ]
  },
  {
   "cell_type": "code",
   "execution_count": 76,
   "metadata": {
    "collapsed": false,
    "deletable": true,
    "editable": true
   },
   "outputs": [
    {
     "data": {
      "image/png": "[encoded data removed]",
      "text/plain": [
       "<matplotlib.figure.Figure object at 0x127badc18>"
      ]
     },
     "metadata": {},
     "output_type": "display_data"
    }
   ],
   "source": [
    "# Let us see a sample Input\n",
    "import matplotlib.pyplot as plt\n",
    "plt.imshow(im.asnumpy())\n",
    "plt.show()"
   ]
  },
  {
   "cell_type": "code",
   "execution_count": 49,
   "metadata": {
    "collapsed": false,
    "deletable": true,
    "editable": true
   },
   "outputs": [],
   "source": [
    "# Create data iterators.Iterators are helpful \n",
    "mnist_train_data_iter = mx.gluon.data.DataLoader(mnist_train_data, batch_size, shuffle=True, last_batch='keep')\n",
    "mnist_test_data_iter = mx.gluon.data.DataLoader(mnist_test_data, batch_size, shuffle=False, last_batch='keep')"
   ]
  },
  {
   "cell_type": "markdown",
   "metadata": {},
   "source": [
    "![Modelling Process](modelling_process_model_type.png)"
   ]
  },
  {
   "cell_type": "markdown",
   "metadata": {},
   "source": [
    "# Step 2 - Model Type\n",
    "\n",
    "1. We use \"Logistic Regression\" model. This is commonly used for classification problems.\n",
    "2. We use MXNet's Gluon API to create a single layer Neural Network.\n",
    "3. Input Layer -> Dense Layer -> Output Layer\n",
    "4. Dense Layer is actually doing a Logistic Regression.\n",
    "\n",
    "Input Layer (784) -> (784)(Logistic Regression) ->Output (10)\n",
    "\n",
    "We will talk more about Sequential, Dense Layers in next talk."
   ]
  },
  {
   "cell_type": "code",
   "execution_count": 50,
   "metadata": {
    "collapsed": true,
    "deletable": true,
    "editable": true
   },
   "outputs": [],
   "source": [
    "# Model Function - Multi-class Logistic Regression\n",
    "# y = W.X + b\n",
    "net = gluon.nn.Sequential()\n",
    "with net.name_scope():\n",
    "    net.add(gluon.nn.Dense(num_outputs))"
   ]
  },
  {
   "cell_type": "code",
   "execution_count": 51,
   "metadata": {
    "collapsed": true,
    "deletable": true,
    "editable": true
   },
   "outputs": [],
   "source": [
    "# Parameter initializaation. Initial weights is random Normal distribution.\n",
    "net.collect_params().initialize(mx.init.Normal(sigma=1.), ctx=ctx)\n"
   ]
  },
  {
   "cell_type": "markdown",
   "metadata": {},
   "source": [
    "![Modelling Process](modelling_process_loss.png)"
   ]
  },
  {
   "cell_type": "markdown",
   "metadata": {},
   "source": [
    "# Step 3 - Loss Function\n",
    "\n",
    "1. We choose Cross Entropy Loss to calculate the errors our model makes.\n",
    "2. Cross Entropy Loss is generally used for classification problems.\n",
    "3. Let us assume our problem is to classify given input into one of the class [dog, cat, human].\n",
    "4. Generally classification from Logistic Regression will be a probablity (confidence) score for each class and we pick the highest confidence class. Example: [0.7, 0.2, 0.1]\n",
    "5. Cross entropy gives us the measurement of error in the expected v/s predicted distribution of the confidence score in classification.\n",
    "\n",
    "Read more about cross entropy here - https://rdipietro.github.io/friendly-intro-to-cross-entropy-loss/"
   ]
  },
  {
   "cell_type": "code",
   "execution_count": 52,
   "metadata": {
    "collapsed": true,
    "deletable": true,
    "editable": true
   },
   "outputs": [],
   "source": [
    "# Loss function - Softmax cross entropy loss\n",
    "softmax_cross_entropy = gluon.loss.SoftmaxCrossEntropyLoss()\n"
   ]
  },
  {
   "cell_type": "code",
   "execution_count": null,
   "metadata": {
    "collapsed": true
   },
   "outputs": [],
   "source": [
    "# Evaluation Metric\n",
    "def evaluate_accuracy(data_iterator, net):\n",
    "    acc = mx.metric.Accuracy()\n",
    "    for i, (data, label) in enumerate(data_iterator):\n",
    "        data = data.as_in_context(ctx).reshape((-1,784))\n",
    "        label = label.as_in_context(ctx)\n",
    "        output = net(data)\n",
    "        predictions = nd.argmax(output, axis=1)\n",
    "        acc.update(preds=predictions, labels=label)\n",
    "    return acc.get()[1]"
   ]
  },
  {
   "cell_type": "markdown",
   "metadata": {},
   "source": [
    "![Modelling Process](modelling_process_train.png)"
   ]
  },
  {
   "cell_type": "markdown",
   "metadata": {},
   "source": [
    "# Training\n",
    "\n",
    "1. We use mini-batch Stochastic Gradient Descent (SGD) for optimization of our cross entropy loss function.\n",
    "2. Hyper parameters - batch_size = 64 (see above), learning_rate = 0.1, epochs = 4\n",
    "\n",
    "## TODO\n",
    "\n",
    "1. Try different hyperparameters.\n",
    "2. What happens to train and test accuracy when you increase epochs?\n",
    "3. What happens if you increase learning_rate?\n",
    "4. What happens if you increase learning_rate and increase epochs?\n",
    "5. Decrease batch_size?"
   ]
  },
  {
   "cell_type": "code",
   "execution_count": 80,
   "metadata": {
    "collapsed": true,
    "deletable": true,
    "editable": true
   },
   "outputs": [],
   "source": [
    "# Optimizer - Stochastic Gradient Descent\n",
    "trainer = gluon.Trainer(net.collect_params(), 'sgd', {'learning_rate': 0.1})\n"
   ]
  },
  {
   "cell_type": "code",
   "execution_count": 81,
   "metadata": {
    "collapsed": false,
    "deletable": true,
    "editable": true
   },
   "outputs": [
    {
     "name": "stdout",
     "output_type": "stream",
     "text": [
      "Epoch 0. Loss: 0.422374235698, Train_acc 0.89825, Test_acc 0.8953\n",
      "Epoch 1. Loss: 0.414965530938, Train_acc 0.89885, Test_acc 0.8986\n",
      "Epoch 2. Loss: 0.393047256643, Train_acc 0.9013, Test_acc 0.8981\n",
      "Epoch 3. Loss: 0.396909612708, Train_acc 0.902683333333, Test_acc 0.9002\n"
     ]
    }
   ],
   "source": [
    "# Model Training\n",
    "epochs = 4\n",
    "moving_loss = 0.\n",
    "smoothing_constant = .01\n",
    "niter = 0\n",
    "\n",
    "for e in range(epochs):\n",
    "    for i, (data, label) in enumerate(mnist_train_data_iter):\n",
    "        data = data.as_in_context(ctx).reshape((-1,784))\n",
    "        label = label.as_in_context(ctx)\n",
    "        with autograd.record():\n",
    "            output = net(data)\n",
    "            loss = softmax_cross_entropy(output, label)\n",
    "        loss.backward()\n",
    "        trainer.step(batch_size)\n",
    "\n",
    "        ##########################\n",
    "        #  Keep a moving average of the losses\n",
    "        ##########################\n",
    "        niter +=1\n",
    "        moving_loss = (1 - smoothing_constant) * moving_loss + (smoothing_constant) * nd.mean(loss).asscalar()\n",
    "        est_loss = moving_loss/(1-(1-smoothing_constant)**niter)\n",
    "\n",
    "    test_accuracy = evaluate_accuracy(mnist_test_data_iter, net)\n",
    "    train_accuracy = evaluate_accuracy(mnist_train_data_iter, net)\n",
    "    print(\"Epoch %s. Loss: %s, Train_acc %s, Test_acc %s\" % (e, est_loss, train_accuracy, test_accuracy))"
   ]
  },
  {
   "cell_type": "code",
   "execution_count": 82,
   "metadata": {
    "collapsed": false,
    "deletable": true,
    "editable": true
   },
   "outputs": [
    {
     "name": "stdout",
     "output_type": "stream",
     "text": [
      "(10, 28, 28, 1)\n"
     ]
    },
    {
     "data": {
      "image/png": "[encoded data removed]",
      "text/plain": [
       "<matplotlib.figure.Figure object at 0x122960470>"
      ]
     },
     "metadata": {},
     "output_type": "display_data"
    },
    {
     "name": "stdout",
     "output_type": "stream",
     "text": [
      "model predictions are: \n",
      "[ 5.  0.  4.  7.  7.  7.  4.  8.  6.  5.]\n",
      "<NDArray 10 @cpu(0)>\n"
     ]
    }
   ],
   "source": [
    "# Prediction. See how it is working\n",
    "import matplotlib.pyplot as plt\n",
    "\n",
    "def model_predict(net,data):\n",
    "    output = net(data)\n",
    "    return nd.argmax(output, axis=1)\n",
    "\n",
    "# let's sample 10 random data points from the test set\n",
    "sample_data = mx.gluon.data.DataLoader(mnist_test_data,\n",
    "                              10, shuffle=True)\n",
    "for i, (data, label) in enumerate(sample_data):\n",
    "    data = data.as_in_context(ctx)\n",
    "    print(data.shape)\n",
    "    im = nd.transpose(data,(1,0,2,3))\n",
    "    im = nd.reshape(im,(28,10*28,1))\n",
    "    imtiles = nd.tile(im, (1,1,3))\n",
    "\n",
    "    plt.imshow(imtiles.asnumpy())\n",
    "    plt.show()\n",
    "    pred=model_predict(net,data.reshape((-1,784)))\n",
    "    print('model predictions are:', pred)\n",
    "    break"
   ]
  }
 ],
 "metadata": {
  "kernelspec": {
   "display_name": "Python 3",
   "language": "python",
   "name": "python3"
  },
  "language_info": {
   "codemirror_mode": {
    "name": "ipython",
    "version": 3
   },
   "file_extension": ".py",
   "mimetype": "text/x-python",
   "name": "python",
   "nbconvert_exporter": "python",
   "pygments_lexer": "ipython3",
   "version": "3.6.1"
  }
 },
 "nbformat": 4,
 "nbformat_minor": 2
}
